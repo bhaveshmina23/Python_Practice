{
  "nbformat": 4,
  "nbformat_minor": 0,
  "metadata": {
    "colab": {
      "provenance": []
    },
    "kernelspec": {
      "name": "python3",
      "display_name": "Python 3"
    },
    "language_info": {
      "name": "python"
    }
  },
  "cells": [
    {
      "cell_type": "code",
      "execution_count": 4,
      "metadata": {
        "id": "ju3cf7Po4Z1h"
      },
      "outputs": [],
      "source": [
        "'''Python program that defines a function ,which takes two numbers and return their sum.\n",
        "Within the function, add the two numbers together and return the result using the return statement.'''\n",
        "\n",
        "def add_numbers(x, y):\n",
        "  return x+y\n",
        "\n"
      ]
    },
    {
      "cell_type": "code",
      "source": [
        "add_numbers(6,7)"
      ],
      "metadata": {
        "colab": {
          "base_uri": "https://localhost:8080/"
        },
        "id": "yI9FHRXh5R7l",
        "outputId": "4c196ced-56b6-4e39-c1c9-4e3c5c29e965"
      },
      "execution_count": 5,
      "outputs": [
        {
          "output_type": "execute_result",
          "data": {
            "text/plain": [
              "13"
            ]
          },
          "metadata": {},
          "execution_count": 5
        }
      ]
    },
    {
      "cell_type": "code",
      "source": [
        "'''Write a Python program that calculates the square root of a given number using a built-in function,\n",
        "calculate its square root using the 'sqrt()' function from the 'math' module, and print out the result to the user'''\n",
        "\n",
        "import math\n",
        "\n",
        "number = 225\n",
        "sqrt_number = math.sqrt(number)\n",
        "print(\"the square root of\", number, \"is\", sqrt_number)\n"
      ],
      "metadata": {
        "colab": {
          "base_uri": "https://localhost:8080/"
        },
        "id": "l5Mt2s1G52mT",
        "outputId": "00c869d3-e2a1-4863-ba79-eccddd529fcd"
      },
      "execution_count": 6,
      "outputs": [
        {
          "output_type": "stream",
          "name": "stdout",
          "text": [
            "the square root of 225 is 15.0\n"
          ]
        }
      ]
    },
    {
      "cell_type": "code",
      "source": [
        "'''write a program that prints all prime numbers between 0 to 50'''\n",
        "\n",
        "for x in range(2,51):\n",
        "  is_prime= True\n",
        "  for i in range(2,x):\n",
        "    if x % i == 0:\n",
        "      is_prime= False\n",
        "      break\n",
        "  if is_prime:\n",
        "    print(x)"
      ],
      "metadata": {
        "id": "d0KunPrA7H5g",
        "colab": {
          "base_uri": "https://localhost:8080/"
        },
        "outputId": "ae21695c-c02b-460e-8661-4dadf8f57ceb"
      },
      "execution_count": 7,
      "outputs": [
        {
          "output_type": "stream",
          "name": "stdout",
          "text": [
            "2\n",
            "3\n",
            "5\n",
            "7\n",
            "11\n",
            "13\n",
            "17\n",
            "19\n",
            "23\n",
            "29\n",
            "31\n",
            "37\n",
            "41\n",
            "43\n",
            "47\n"
          ]
        }
      ]
    },
    {
      "cell_type": "code",
      "source": [
        "'''swap the values of three variables (let's say a, b, and c) without using a fourth variable'''\n",
        "\n",
        "a = 6\n",
        "b = 8\n",
        "c = 2\n",
        "\n",
        "a, b, c = c, b, a\n",
        "\n",
        "print('a=',a, '---','b=',b,'---','c=',c)"
      ],
      "metadata": {
        "colab": {
          "base_uri": "https://localhost:8080/"
        },
        "id": "A6FxVK0uEz-b",
        "outputId": "40468349-1e98-4c8b-eff8-00d66d9a329c"
      },
      "execution_count": 8,
      "outputs": [
        {
          "output_type": "stream",
          "name": "stdout",
          "text": [
            "a= 2 --- b= 8 --- c= 6\n"
          ]
        }
      ]
    },
    {
      "cell_type": "code",
      "source": [
        "'''write a program that determines the nature of a given number as being positive, negative, or zero'''\n",
        "num = 50\n",
        "\n",
        "if num>0:\n",
        "  print(\"num is positive\")\n",
        "elif num<0:\n",
        "  print(\"num is negative\")\n",
        "else:\n",
        "  print(\"num is zero\")"
      ],
      "metadata": {
        "colab": {
          "base_uri": "https://localhost:8080/"
        },
        "id": "PcKMcfgdG5E6",
        "outputId": "c08a85ee-406f-49a0-e2ab-94ff16a3eb63"
      },
      "execution_count": 9,
      "outputs": [
        {
          "output_type": "stream",
          "name": "stdout",
          "text": [
            "num is positive\n"
          ]
        }
      ]
    },
    {
      "cell_type": "code",
      "source": [
        "'''write a program that determines the nature of a given number as odd or even'''\n",
        "\n",
        "num=75\n",
        "\n",
        "if num%2==0:\n",
        "  print(\"number is even\")\n",
        "else:\n",
        "  print(\"number is odd\")"
      ],
      "metadata": {
        "colab": {
          "base_uri": "https://localhost:8080/"
        },
        "id": "TqPhqvjBPMQ9",
        "outputId": "24402dbf-96ee-4e48-9fda-1f2030568585"
      },
      "execution_count": 10,
      "outputs": [
        {
          "output_type": "stream",
          "name": "stdout",
          "text": [
            "number is odd\n"
          ]
        }
      ]
    },
    {
      "cell_type": "code",
      "source": [
        "'''write a program to find sum of digits'''\n",
        "\n",
        "num=12580\n",
        "sum = 0\n",
        "while num > 0:\n",
        "  sum += num % 10\n",
        "  num//=10\n",
        "print(\"sum of digits is,\", sum)"
      ],
      "metadata": {
        "id": "mc_tj46iPxZK",
        "colab": {
          "base_uri": "https://localhost:8080/"
        },
        "outputId": "4521689c-7795-499c-8fcc-4a63f91a03a0"
      },
      "execution_count": 11,
      "outputs": [
        {
          "output_type": "stream",
          "name": "stdout",
          "text": [
            "sum of digits is, 16\n"
          ]
        }
      ]
    },
    {
      "cell_type": "code",
      "source": [
        "'''write a program to reverse a number'''\n",
        "\n",
        "num=6492\n",
        "reverse=0\n",
        "\n",
        "while num>0:\n",
        "  digit=num%10\n",
        "  print(digit)\n",
        "  reverse=(reverse*10)+digit\n",
        "  num//=10\n",
        "print(\"reverse is,\",reverse)"
      ],
      "metadata": {
        "colab": {
          "base_uri": "https://localhost:8080/"
        },
        "id": "4cHTppmVaZxZ",
        "outputId": "371f9dd0-fc17-45fd-ae5e-00e5ebfbf429"
      },
      "execution_count": 12,
      "outputs": [
        {
          "output_type": "stream",
          "name": "stdout",
          "text": [
            "2\n",
            "9\n",
            "4\n",
            "6\n",
            "reverse is, 2946\n"
          ]
        }
      ]
    },
    {
      "cell_type": "code",
      "source": [
        "\"\"\"write a program to check if a number is armstrong number or not\"\"\"\n",
        "#  In number theory, an Armstrong number is a number that is equal to the sum of the cubes of its own digits each raised to the power of the number of digits.\n",
        "\n",
        "def is_armstrong(num):\n",
        "\n",
        "  num_str=str(num)\n",
        "  num_digits=len(num_str)\n",
        "  sum_of_cubes = sum([int(digit)**num_digits for digit in num_str])\n",
        "\n",
        "\n",
        "\n",
        "  if sum_of_cubes == num:\n",
        "    return True\n",
        "  else:\n",
        "    return False\n",
        "num1= 371\n",
        "if is_armstrong(num1):\n",
        "  print(\"given num is armstrong\")\n",
        "else:\n",
        "  print(\"given number is not armstrong\")\n",
        "\n",
        "print(\"Thanks\")\n"
      ],
      "metadata": {
        "id": "2BEuR0mabrSW"
      },
      "execution_count": null,
      "outputs": []
    },
    {
      "cell_type": "code",
      "source": [
        "def is_armstrong(num):\n",
        "\n",
        "  num_str = str(num)\n",
        "  num_digits = len(num_str)\n",
        "\n",
        "  sum_of_cubes = 0\n",
        "  for digit in num_str:\n",
        "    sum_of_cubes += int(digit) ** num_digits\n",
        "\n",
        "  return sum_of_cubes == num\n",
        "\n",
        "\n",
        "num1 = 371\n",
        "\n",
        "if is_armstrong(num1):\n",
        "  print(\"given num is armstrong\")\n",
        "else:\n",
        "  print(\"given number is not armstrong\")\n",
        "\n",
        "print(\"Thanks\")\n"
      ],
      "metadata": {
        "colab": {
          "base_uri": "https://localhost:8080/"
        },
        "id": "2cLHHc1BufDy",
        "outputId": "aca1f8ea-c816-4751-a2f7-afc8b4c83d45"
      },
      "execution_count": 23,
      "outputs": [
        {
          "output_type": "stream",
          "name": "stdout",
          "text": [
            "given num is armstrong\n",
            "Thanks\n"
          ]
        }
      ]
    },
    {
      "cell_type": "code",
      "source": [
        "'''to check whether a given year is a leap year or not'''\n",
        "\n",
        "year=2002\n",
        "\n",
        "if (year % 4 == 0 and year % 100 != 0) or (year % 400 == 0):\n",
        "  print(year, 'is a leap year')\n",
        "else:\n",
        "  print(year,\"is not a leap year\")"
      ],
      "metadata": {
        "colab": {
          "base_uri": "https://localhost:8080/"
        },
        "id": "XF7HAalmwLk0",
        "outputId": "ac98205c-53be-45ea-8dcf-131b0833b421"
      },
      "execution_count": 25,
      "outputs": [
        {
          "output_type": "stream",
          "name": "stdout",
          "text": [
            "2002 is not a leap year\n"
          ]
        }
      ]
    },
    {
      "cell_type": "code",
      "source": [],
      "metadata": {
        "id": "44Qgut0J1zDc"
      },
      "execution_count": null,
      "outputs": []
    }
  ]
}