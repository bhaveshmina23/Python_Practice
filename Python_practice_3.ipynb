{
  "nbformat": 4,
  "nbformat_minor": 0,
  "metadata": {
    "colab": {
      "provenance": [],
      "authorship_tag": "ABX9TyPlHQsU9eq+3J0rD5UCZfjj",
      "include_colab_link": true
    },
    "kernelspec": {
      "name": "python3",
      "display_name": "Python 3"
    },
    "language_info": {
      "name": "python"
    }
  },
  "cells": [
    {
      "cell_type": "markdown",
      "metadata": {
        "id": "view-in-github",
        "colab_type": "text"
      },
      "source": [
        "<a href=\"https://colab.research.google.com/github/bhaveshmina23/Python_Practice/blob/main/Python_practice_3.ipynb\" target=\"_parent\"><img src=\"https://colab.research.google.com/assets/colab-badge.svg\" alt=\"Open In Colab\"/></a>"
      ]
    },
    {
      "cell_type": "code",
      "execution_count": 1,
      "metadata": {
        "colab": {
          "base_uri": "https://localhost:8080/"
        },
        "id": "XmSmW1U1rwnG",
        "outputId": "a8e1ace4-4368-4201-e3b5-e15f3521b8cd"
      },
      "outputs": [
        {
          "output_type": "stream",
          "name": "stdout",
          "text": [
            "30.0\n"
          ]
        }
      ],
      "source": [
        "\"\"\"Create a dictionary called fruits with the following key-value pairs:\n",
        "\"apple\": 75.00\n",
        "\"banana\": 12.25\n",
        "\"orange\": 30.00\n",
        "Then, print out the price of a orange.\"\"\"\n",
        "\n",
        "Fruits = {\n",
        "    \"apple\" : 75.00,\n",
        "    \"banana\" : 12.25,\n",
        "    \"orange\" : 30.00\n",
        "}\n",
        "\n",
        "print(Fruits['orange'])"
      ]
    },
    {
      "cell_type": "code",
      "source": [
        "\"\"\"Create an empty dictionary called ages. Add the following key-value pairs to the dictionary:\n",
        "\"Ravi\": 30\n",
        "\"Vasu\": 25\n",
        "\"Amit\": 35\n",
        "Then, print out the age of Vasu\"\"\"\n",
        "\n",
        "ages = {}\n",
        "\n",
        "ages[\"Ravi\"] = 30\n",
        "ages[\"Vasu\"] = 25\n",
        "ages[\"Amit\"] = 35\n",
        "\n",
        "print(ages['Vasu'])"
      ],
      "metadata": {
        "colab": {
          "base_uri": "https://localhost:8080/"
        },
        "id": "NCXm6YJIzl7J",
        "outputId": "b56a1dd1-925b-4f97-ba36-821ca4622eb0"
      },
      "execution_count": 2,
      "outputs": [
        {
          "output_type": "stream",
          "name": "stdout",
          "text": [
            "25\n"
          ]
        }
      ]
    },
    {
      "cell_type": "code",
      "source": [
        "from typing_extensions import Text\n",
        "\"\"\"Write a function called word_count(text) that takes a string as input and returns a dictionary where each key is a word in the text\n",
        "and its value is the number of times that word appears in the text.\n",
        " For example, word_count(\"hello world hello\") should return {\"hello\": 2, \"world\": 1}\"\"\"\n",
        "\n",
        "def word_count(text):\n",
        "  words = text.lower().split()\n",
        "  counts = {}\n",
        "  for word in words:\n",
        "    if word in counts:\n",
        "      counts[word] += 1\n",
        "    else:\n",
        "      counts[word] = 1\n",
        "  return counts\n",
        "\n",
        "\n",
        "text = \"Hello everyon Hello Bhavesh hi everyone\"\n",
        "counts = word_count(text)\n",
        "print(counts)\n"
      ],
      "metadata": {
        "colab": {
          "base_uri": "https://localhost:8080/"
        },
        "id": "gHQiXHIO0Wmd",
        "outputId": "b7f92364-7c18-4a2a-fe3d-1acd9582e616"
      },
      "execution_count": 6,
      "outputs": [
        {
          "output_type": "stream",
          "name": "stdout",
          "text": [
            "{'hello': 2, 'everyon': 1, 'bhavesh': 1, 'hi': 1, 'everyone': 1}\n"
          ]
        }
      ]
    },
    {
      "cell_type": "code",
      "source": [
        "\"\"\"Create a dictionary called phone_book with the following key-value pairs:\n",
        "\"Alice\": \"555-1234\"\n",
        "\"Bob\": \"555-5678\"\n",
        "\"Charlie\": \"555-9012\"\n",
        "Then, prompt the user to enter a name and print out the corresponding phone number. If the name is not in the phone book, print out a message saying that the name was not found.\n",
        "\"\"\"\n",
        "\n",
        "phone_book = {\n",
        "    \"Alice\": \"555-1234\",\n",
        "    \"Bob\": \"555-5678\",\n",
        "    \"Charlie\": \"555-9012\"\n",
        "}\n",
        "name = input(\"Enter a name to lookup in the phone book: \")\n",
        "\n",
        "if name in phone_book:\n",
        "    phone_number = phone_book[name]\n",
        "    print(f\"{name}'s phone number is {phone_number}.\")\n",
        "else:\n",
        "    print(f\"{name} was not found in the phone book.\")\n"
      ],
      "metadata": {
        "colab": {
          "base_uri": "https://localhost:8080/"
        },
        "id": "psH35AYa2fNh",
        "outputId": "4b645a14-e6ee-4aa7-c4cb-876eff817aaf"
      },
      "execution_count": 14,
      "outputs": [
        {
          "output_type": "stream",
          "name": "stdout",
          "text": [
            "Enter a name to lookup in the phone book: Alice\n",
            "Alice's phone number is 555-1234.\n"
          ]
        }
      ]
    },
    {
      "cell_type": "code",
      "source": [
        "\"\"\"Write a program that prompts the user to enter a number between 1 and 10. If the number is less than 5, print out \"Too low!\", otherwise print out \"Too high!\", \"\"\"\n",
        "\n",
        "number = int(input(\"Enter a number between 1 and 10: \"))\n",
        "\n",
        "if number < 5:\n",
        "    print(\"Too low!\")\n",
        "else:\n",
        "    print(\"Too high!\")"
      ],
      "metadata": {
        "colab": {
          "base_uri": "https://localhost:8080/"
        },
        "id": "E2flQNex3SN-",
        "outputId": "a686ff3c-705f-4d69-ce7a-b22b379d747e"
      },
      "execution_count": 17,
      "outputs": [
        {
          "output_type": "stream",
          "name": "stdout",
          "text": [
            "Enter a number between 1 and 10: 5\n",
            "Too high!\n"
          ]
        }
      ]
    },
    {
      "cell_type": "code",
      "source": [
        "\"\"\"Write a program that prompts the user to enter a password. If the password is \"password123\", print out \"Access granted\", otherwise print out \"Access denied\" \"\"\"\n",
        "\n",
        "password = input(\"Enter a password: \")\n",
        "\n",
        "if password == \"password123\":\n",
        "    print(\"Access granted\")\n",
        "else:\n",
        "    print(\"Access denied\")"
      ],
      "metadata": {
        "colab": {
          "base_uri": "https://localhost:8080/"
        },
        "id": "vU4getCF31Pu",
        "outputId": "dd6c8b98-5f38-44e3-d003-513163396993"
      },
      "execution_count": 18,
      "outputs": [
        {
          "output_type": "stream",
          "name": "stdout",
          "text": [
            "Enter a password: hi\n",
            "Access denied\n"
          ]
        }
      ]
    },
    {
      "cell_type": "code",
      "source": [
        "\"\"\"Write a program that prompts the user to enter a positive integer. Then, use a loop to print out all the odd numbers from 1 to that integer\"\"\"\n",
        "\n",
        "num = int(input(\"enter a positive integer: \"))\n",
        "if num>0:\n",
        "  for i in range(1,num+1,2):\n",
        "    print(i)\n",
        "else:\n",
        "  print(\"please enter positive integer\")"
      ],
      "metadata": {
        "colab": {
          "base_uri": "https://localhost:8080/"
        },
        "id": "JKM3AHQc5Qjz",
        "outputId": "b6d62fb6-9d78-40d7-9284-2fdbd3e696ea"
      },
      "execution_count": 23,
      "outputs": [
        {
          "output_type": "stream",
          "name": "stdout",
          "text": [
            "enter a positive integer: 10\n",
            "1\n",
            "3\n",
            "5\n",
            "7\n",
            "9\n"
          ]
        }
      ]
    },
    {
      "cell_type": "code",
      "source": [
        "\n",
        "#upper problem can also solved by while loop\n",
        "\n",
        "num = int(input(\"Enter a positive integer: \"))\n",
        "i=1\n",
        "while i<= num:\n",
        "  print(i)\n",
        "  i += 2\n"
      ],
      "metadata": {
        "colab": {
          "base_uri": "https://localhost:8080/"
        },
        "id": "qcgqZUt25n4u",
        "outputId": "b4d4269a-d322-4248-b8a2-12cf1322db71"
      },
      "execution_count": 22,
      "outputs": [
        {
          "output_type": "stream",
          "name": "stdout",
          "text": [
            "Enter a positive integer: 10\n",
            "1\n",
            "3\n",
            "5\n",
            "7\n",
            "9\n"
          ]
        }
      ]
    },
    {
      "cell_type": "code",
      "source": [
        "\"\"\"Write a program that generates a random number between 1 and 100 and then prompts the user to guess the number.\n",
        " If the user's guess is too low, print out \"Too low!\", if the guess is too high, print out \"Too high!\",\n",
        "  and if the guess is correct, print out \"You win!\" \"\"\"\n",
        "\n",
        "import random\n",
        "number = random.randint(1,100)\n",
        "guess = int(input(\"guess the number between 1 and 100\"))\n",
        "while guess != number:\n",
        "  if guess<number:\n",
        "    print(\"too low!\")\n",
        "  else:\n",
        "    print(\"too high!\")\n",
        "  guess = int(input(\"guess again: \"))\n",
        "\n",
        "print(\"You Win!\")"
      ],
      "metadata": {
        "colab": {
          "base_uri": "https://localhost:8080/"
        },
        "id": "yF8IxD8_6ilK",
        "outputId": "d956d5b0-1d4f-4be6-e65e-cc0d3c9adfba"
      },
      "execution_count": 26,
      "outputs": [
        {
          "output_type": "stream",
          "name": "stdout",
          "text": [
            "guess the number between 1 and 10050\n",
            "too high!\n",
            "guess again: 25\n",
            "too low!\n",
            "guess again: 37\n",
            "too high!\n",
            "guess again: 31\n",
            "too low!\n",
            "guess again: 34\n",
            "too high!\n",
            "guess again: 33\n",
            "too high!\n",
            "guess again: 32\n",
            "You Win!\n"
          ]
        }
      ]
    },
    {
      "cell_type": "code",
      "source": [
        "\"\"\"Write a program that generates a random number between 1 and 10 and then prompts the user to guess the number.\n",
        "The user has three attempts to guess the number.\n",
        " If the user guesses correctly within three attempts,\n",
        "  print out \"You win!\", otherwise print out \"You lose!\" \"\"\"\n",
        "\n",
        "import random\n",
        "\n",
        "secret_number = random.randint(1, 10)\n",
        "\n",
        "attempts = 3\n",
        "\n",
        "while attempts > 0:\n",
        "    guess = int(input(\"Guess the number between 1 and 10: \"))\n",
        "    if guess == secret_number:\n",
        "        print(\"You win!\")\n",
        "        break\n",
        "    elif guess < secret_number:\n",
        "        print(\"Too low!\")\n",
        "    else:\n",
        "        print(\"Too high!\")\n",
        "    attempts -= 1\n",
        "\n",
        "if attempts == 0:\n",
        "    print(\"You lose!\")"
      ],
      "metadata": {
        "colab": {
          "base_uri": "https://localhost:8080/"
        },
        "id": "vlBikEaK7MrS",
        "outputId": "6e77bffb-99c7-452b-d59b-f03757159bad"
      },
      "execution_count": 27,
      "outputs": [
        {
          "output_type": "stream",
          "name": "stdout",
          "text": [
            "Guess the number between 1 and 10: 5\n",
            "You win!\n"
          ]
        }
      ]
    },
    {
      "cell_type": "code",
      "source": [
        "\"\"\"Write a program that prompts the user to enter their age and then prints out whether they are\n",
        "a child (age 0-12),\n",
        "a teenager (age 13-19),\n",
        "an adult (age 20-59),\n",
        "or a senior (age 60+)\"\"\"\n",
        "\n",
        "age = int(input(\"Enter your age: \"))\n",
        "\n",
        "# check if age falls into child, teenager, adult, or senior category\n",
        "if age>0:\n",
        "  if age <= 12:\n",
        "      print(\"You are a child.\")\n",
        "  elif age <= 19:\n",
        "      print(\"You are a teenager.\")\n",
        "  elif age <= 59:\n",
        "      print(\"You are an adult.\")\n",
        "  else:\n",
        "      print(\"You are a senior.\")\n",
        "else:\n",
        "  print(\"enter a valid age\")"
      ],
      "metadata": {
        "colab": {
          "base_uri": "https://localhost:8080/"
        },
        "id": "sKAJQYku7NTl",
        "outputId": "30e3a0a5-07f3-443e-9a84-2de6e0b2e2ca"
      },
      "execution_count": 29,
      "outputs": [
        {
          "output_type": "stream",
          "name": "stdout",
          "text": [
            "Enter your age: 21\n",
            "You are an adult.\n"
          ]
        }
      ]
    },
    {
      "cell_type": "code",
      "source": [],
      "metadata": {
        "id": "o6OBQDyMAJI6"
      },
      "execution_count": null,
      "outputs": []
    }
  ]
}