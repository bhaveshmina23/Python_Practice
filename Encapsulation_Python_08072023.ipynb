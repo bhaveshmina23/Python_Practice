{
  "cells": [
    {
      "cell_type": "code",
      "execution_count": null,
      "id": "9831a0bd-04f4-4039-a4ff-62554b5294f3",
      "metadata": {
        "id": "9831a0bd-04f4-4039-a4ff-62554b5294f3"
      },
      "outputs": [],
      "source": [
        "class test :\n",
        "    def __init__(self , a,b ) :\n",
        "        self.a = a\n",
        "        self.b = b"
      ]
    },
    {
      "cell_type": "code",
      "execution_count": null,
      "id": "e74fd49f-940b-4920-b06d-e4f87efee3e4",
      "metadata": {
        "id": "e74fd49f-940b-4920-b06d-e4f87efee3e4"
      },
      "outputs": [],
      "source": [
        "t = test(69,46)"
      ]
    },
    {
      "cell_type": "code",
      "execution_count": null,
      "id": "d2e12dab-a101-48f3-b749-eacfd96b0fbe",
      "metadata": {
        "id": "d2e12dab-a101-48f3-b749-eacfd96b0fbe",
        "outputId": "0220695b-2b13-4a30-d378-2143df94b126",
        "colab": {
          "base_uri": "https://localhost:8080/"
        }
      },
      "outputs": [
        {
          "output_type": "execute_result",
          "data": {
            "text/plain": [
              "69"
            ]
          },
          "metadata": {},
          "execution_count": 3
        }
      ],
      "source": [
        "t.a"
      ]
    },
    {
      "cell_type": "code",
      "execution_count": null,
      "id": "1fabeddd-a9e8-4ea0-9c28-299c87ce85df",
      "metadata": {
        "id": "1fabeddd-a9e8-4ea0-9c28-299c87ce85df",
        "outputId": "86e4fe79-e15a-410e-b120-9f103c699ad0",
        "colab": {
          "base_uri": "https://localhost:8080/"
        }
      },
      "outputs": [
        {
          "output_type": "execute_result",
          "data": {
            "text/plain": [
              "46"
            ]
          },
          "metadata": {},
          "execution_count": 4
        }
      ],
      "source": [
        "t.b"
      ]
    },
    {
      "cell_type": "code",
      "execution_count": null,
      "id": "ceb667e8-972f-4303-9fb2-d14cc914dca6",
      "metadata": {
        "id": "ceb667e8-972f-4303-9fb2-d14cc914dca6"
      },
      "outputs": [],
      "source": [
        "t.a = 3243"
      ]
    },
    {
      "cell_type": "code",
      "execution_count": null,
      "id": "7f0c27cc-0cef-4d0e-acae-dae14cae4d12",
      "metadata": {
        "id": "7f0c27cc-0cef-4d0e-acae-dae14cae4d12",
        "outputId": "76c379b5-ac46-4edf-fad4-5ef4c11fff37",
        "colab": {
          "base_uri": "https://localhost:8080/"
        }
      },
      "outputs": [
        {
          "output_type": "execute_result",
          "data": {
            "text/plain": [
              "3243"
            ]
          },
          "metadata": {},
          "execution_count": 6
        }
      ],
      "source": [
        "t.a"
      ]
    },
    {
      "cell_type": "code",
      "source": [
        "\"\"\" Encapsulation is one of the fundamental concepts in object-oriented programming (OOP).\n",
        " It describes the idea of wrapping data and the methods that work on data within one unit.\n",
        "  This puts restrictions on accessing variables and methods directly and can prevent the accidental modification of data.\"\"\""
      ],
      "metadata": {
        "id": "rMQ_VUGscrqv",
        "outputId": "124d7361-2f06-439f-fcfb-07ef3e3c85ff",
        "colab": {
          "base_uri": "https://localhost:8080/",
          "height": 53
        }
      },
      "id": "rMQ_VUGscrqv",
      "execution_count": null,
      "outputs": [
        {
          "output_type": "execute_result",
          "data": {
            "text/plain": [
              "' Encapsulation is one of the fundamental concepts in object-oriented programming (OOP).\\n It describes the idea of wrapping data and the methods that work on data within one unit.\\n  This puts restrictions on accessing variables and methods directly and can prevent the accidental modification of data.'"
            ],
            "application/vnd.google.colaboratory.intrinsic+json": {
              "type": "string"
            }
          },
          "metadata": {},
          "execution_count": 7
        }
      ]
    },
    {
      "cell_type": "code",
      "source": [
        "class car:\n",
        "\n",
        "    def __init__(self , year , make , model ,speed ) :\n",
        "        self.__year = year # to use encapsulation, \"__\" will be used\n",
        "        self.__make = make\n",
        "        self.__model = model\n",
        "        self.__speed = 0"
      ],
      "metadata": {
        "id": "zQEpY-gcdK3D"
      },
      "id": "zQEpY-gcdK3D",
      "execution_count": null,
      "outputs": []
    },
    {
      "cell_type": "code",
      "execution_count": null,
      "id": "598c6e82-5b10-4779-bdc9-c4c1a675a9a1",
      "metadata": {
        "id": "598c6e82-5b10-4779-bdc9-c4c1a675a9a1"
      },
      "outputs": [],
      "source": [
        "obj_car = car(2021 , \"toyota\" , \"innova\" , 12)"
      ]
    },
    {
      "cell_type": "code",
      "execution_count": null,
      "id": "52c98d8e-55fe-43af-86c5-a5a045102b11",
      "metadata": {
        "id": "52c98d8e-55fe-43af-86c5-a5a045102b11"
      },
      "outputs": [],
      "source": [
        "obj_car._car__year = 2023"
      ]
    },
    {
      "cell_type": "code",
      "execution_count": null,
      "id": "9124702f-90fa-4c99-a2a2-d80affc5449c",
      "metadata": {
        "id": "9124702f-90fa-4c99-a2a2-d80affc5449c",
        "outputId": "303b40a1-aaf3-43b6-88ae-f7454da275b6",
        "colab": {
          "base_uri": "https://localhost:8080/"
        }
      },
      "outputs": [
        {
          "output_type": "execute_result",
          "data": {
            "text/plain": [
              "2023"
            ]
          },
          "metadata": {},
          "execution_count": 11
        }
      ],
      "source": [
        "obj_car._car__year"
      ]
    },
    {
      "cell_type": "code",
      "execution_count": null,
      "id": "6d4f939a-5370-4535-bcbc-69165267e639",
      "metadata": {
        "id": "6d4f939a-5370-4535-bcbc-69165267e639",
        "outputId": "e7ac38f0-3484-4379-dd92-c685e1c29f70",
        "colab": {
          "base_uri": "https://localhost:8080/"
        }
      },
      "outputs": [
        {
          "output_type": "execute_result",
          "data": {
            "text/plain": [
              "0"
            ]
          },
          "metadata": {},
          "execution_count": 12
        }
      ],
      "source": [
        "obj_car._car__speed"
      ]
    },
    {
      "cell_type": "code",
      "execution_count": null,
      "id": "95ef5fe4-f718-4c9c-b906-150fe6de544d",
      "metadata": {
        "id": "95ef5fe4-f718-4c9c-b906-150fe6de544d",
        "outputId": "261ef34d-8fc5-4873-df0d-dc0ab0493f25",
        "colab": {
          "base_uri": "https://localhost:8080/"
        }
      },
      "outputs": [
        {
          "output_type": "execute_result",
          "data": {
            "text/plain": [
              "<__main__.car at 0x7f063a45e590>"
            ]
          },
          "metadata": {},
          "execution_count": 13
        }
      ],
      "source": [
        "obj_car"
      ]
    },
    {
      "cell_type": "code",
      "execution_count": 23,
      "id": "c3da9ce7-7998-4ab7-af6e-3e361e738e2c",
      "metadata": {
        "id": "c3da9ce7-7998-4ab7-af6e-3e361e738e2c"
      },
      "outputs": [],
      "source": [
        "class car:\n",
        "\n",
        "  def __init__(self , year , make , model ,speed ) :\n",
        "    self.__year = year\n",
        "    self.__make = make\n",
        "    self.__model = model\n",
        "    self.__speed = 0\n",
        "\n",
        "  def set_speed(self , speed) :\n",
        "    self.__speed = 0 if speed < 0 else speed\n",
        "\n",
        "  def get_speed(self) :\n",
        "    return self.__speed\n",
        "\n",
        "\n"
      ]
    },
    {
      "cell_type": "code",
      "source": [
        "obj_car\n"
      ],
      "metadata": {
        "id": "Xz0AJw8adqCe",
        "colab": {
          "base_uri": "https://localhost:8080/"
        },
        "outputId": "5534c97b-7291-4460-e886-f7dd935f9a19"
      },
      "id": "Xz0AJw8adqCe",
      "execution_count": 25,
      "outputs": [
        {
          "output_type": "execute_result",
          "data": {
            "text/plain": [
              "<__main__.car at 0x7f063a45e590>"
            ]
          },
          "metadata": {},
          "execution_count": 25
        }
      ]
    },
    {
      "cell_type": "code",
      "execution_count": 30,
      "id": "a98e0206-502b-40d5-a882-b6500409c8b5",
      "metadata": {
        "id": "a98e0206-502b-40d5-a882-b6500409c8b5"
      },
      "outputs": [],
      "source": [
        "class bank_acount:\n",
        "\n",
        "    def __init__(self , balance ):\n",
        "        self.__balance = balance\n",
        "\n",
        "    def deposit(self , amount ) :\n",
        "        self.__balance = self.__balance + amount\n",
        "\n",
        "    def withdraw(self , amount) :\n",
        "        if self.__balance >= amount :\n",
        "            self.__balance = self.__balance -amount\n",
        "            return True\n",
        "        else :\n",
        "            return False\n",
        "\n",
        "    def get_balance(self) :\n",
        "        return self.__balance"
      ]
    },
    {
      "cell_type": "code",
      "execution_count": 31,
      "id": "00930c50-1955-4ea4-85f1-3d8a64ea9c85",
      "metadata": {
        "id": "00930c50-1955-4ea4-85f1-3d8a64ea9c85"
      },
      "outputs": [],
      "source": [
        "obj_bank_account = bank_acount(1000)"
      ]
    },
    {
      "cell_type": "code",
      "execution_count": 32,
      "id": "47ca37ea-0799-4c16-a4e9-412ec1fec30f",
      "metadata": {
        "id": "47ca37ea-0799-4c16-a4e9-412ec1fec30f",
        "outputId": "0b54dd66-7501-4048-f317-8b9af2816dd8",
        "colab": {
          "base_uri": "https://localhost:8080/"
        }
      },
      "outputs": [
        {
          "output_type": "execute_result",
          "data": {
            "text/plain": [
              "1000"
            ]
          },
          "metadata": {},
          "execution_count": 32
        }
      ],
      "source": [
        "obj_bank_account.get_balance()"
      ]
    },
    {
      "cell_type": "code",
      "execution_count": 33,
      "id": "48e464f4-efe9-468e-bc0d-978dc3385cd9",
      "metadata": {
        "id": "48e464f4-efe9-468e-bc0d-978dc3385cd9"
      },
      "outputs": [],
      "source": [
        "obj_bank_account.deposit(6000)"
      ]
    },
    {
      "cell_type": "code",
      "execution_count": 34,
      "id": "d73b1908-af08-4144-8f09-8643142ae534",
      "metadata": {
        "id": "d73b1908-af08-4144-8f09-8643142ae534",
        "outputId": "525c0e09-e7fe-4c4d-9290-b4835e72a748",
        "colab": {
          "base_uri": "https://localhost:8080/"
        }
      },
      "outputs": [
        {
          "output_type": "execute_result",
          "data": {
            "text/plain": [
              "7000"
            ]
          },
          "metadata": {},
          "execution_count": 34
        }
      ],
      "source": [
        "obj_bank_account.get_balance()"
      ]
    },
    {
      "cell_type": "code",
      "execution_count": 35,
      "id": "1d6051d9-2f21-4a1c-a2dc-809c1c4b27a1",
      "metadata": {
        "id": "1d6051d9-2f21-4a1c-a2dc-809c1c4b27a1",
        "outputId": "ce47e6a3-c7b6-48da-cce2-7416c33911c5",
        "colab": {
          "base_uri": "https://localhost:8080/"
        }
      },
      "outputs": [
        {
          "output_type": "execute_result",
          "data": {
            "text/plain": [
              "False"
            ]
          },
          "metadata": {},
          "execution_count": 35
        }
      ],
      "source": [
        "obj_bank_account.withdraw(10000)"
      ]
    },
    {
      "cell_type": "code",
      "execution_count": 36,
      "id": "62cf667f-e708-49c3-89ac-0d5827659e13",
      "metadata": {
        "id": "62cf667f-e708-49c3-89ac-0d5827659e13",
        "outputId": "e744fe32-769b-4a6b-ffb4-3d6356147701",
        "colab": {
          "base_uri": "https://localhost:8080/"
        }
      },
      "outputs": [
        {
          "output_type": "execute_result",
          "data": {
            "text/plain": [
              "True"
            ]
          },
          "metadata": {},
          "execution_count": 36
        }
      ],
      "source": [
        "obj_bank_account.withdraw(2000)"
      ]
    },
    {
      "cell_type": "code",
      "execution_count": 37,
      "id": "da6e1e06-a879-420a-8b0b-1c3c1f9d9c30",
      "metadata": {
        "id": "da6e1e06-a879-420a-8b0b-1c3c1f9d9c30",
        "outputId": "ae524b44-1980-4204-f4c9-ad33335ada03",
        "colab": {
          "base_uri": "https://localhost:8080/"
        }
      },
      "outputs": [
        {
          "output_type": "execute_result",
          "data": {
            "text/plain": [
              "5000"
            ]
          },
          "metadata": {},
          "execution_count": 37
        }
      ],
      "source": [
        "obj_bank_account.get_balance()"
      ]
    },
    {
      "cell_type": "code",
      "execution_count": 37,
      "id": "f6dfb852-54eb-407c-9e03-e35da9ff83ff",
      "metadata": {
        "id": "f6dfb852-54eb-407c-9e03-e35da9ff83ff"
      },
      "outputs": [],
      "source": []
    }
  ],
  "metadata": {
    "kernelspec": {
      "display_name": "Python 3 (ipykernel)",
      "language": "python",
      "name": "python3"
    },
    "language_info": {
      "codemirror_mode": {
        "name": "ipython",
        "version": 3
      },
      "file_extension": ".py",
      "mimetype": "text/x-python",
      "name": "python",
      "nbconvert_exporter": "python",
      "pygments_lexer": "ipython3",
      "version": "3.10.8"
    },
    "colab": {
      "provenance": []
    }
  },
  "nbformat": 4,
  "nbformat_minor": 5
}