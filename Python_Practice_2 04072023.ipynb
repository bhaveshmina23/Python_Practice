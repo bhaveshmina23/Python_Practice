{
  "nbformat": 4,
  "nbformat_minor": 0,
  "metadata": {
    "colab": {
      "provenance": []
    },
    "kernelspec": {
      "name": "python3",
      "display_name": "Python 3"
    },
    "language_info": {
      "name": "python"
    }
  },
  "cells": [
    {
      "cell_type": "code",
      "execution_count": 1,
      "metadata": {
        "colab": {
          "base_uri": "https://localhost:8080/"
        },
        "id": "K0MPvQsM6UhA",
        "outputId": "7df649ed-d116-4c7f-88f7-add686cc4241"
      },
      "outputs": [
        {
          "output_type": "stream",
          "name": "stdout",
          "text": [
            "starting\n",
            " [2, 3, 4, 5, 6, 7] \n",
            "\n",
            "1 [2, 3, 4, 5, 6, 7, 'mango']\n",
            "2 [2, 3, 4, 5, 6, 7, 'mango', 'banana', 'grapes', 'orange']\n",
            "3 [2, 3, 4, 5, 'apple', 6, 7, 'mango', 'banana', 'grapes', 'orange']\n",
            "[2, 3, 4, 5, 'apple', 6, 7, 'mango', 'banana', 'grapes']\n"
          ]
        }
      ],
      "source": [
        "\"\"\"Create a list in python using the followings: 2,3,4,5,6,7 with variable ‘a’\n",
        "Add ‘mango' to the above list\n",
        "Also add banana, grapes & orange in the list\n",
        "insert apple in the 5th position of a variable ‘a’\n",
        "Remove last item from the list\"\"\"\n",
        "\n",
        "a= [2,3,4,5,6,7] #creating a list with variable a\n",
        "print('starting\\n',a,\"\\n\")\n",
        "a.append('mango') #add 'mango' to the end of the list\n",
        "print(\"1\",a)\n",
        "a.extend(['banana', 'grapes', 'orange'])  # add multiple items to the end of the list\n",
        "print(\"2\",a)\n",
        "a.insert(4, 'apple')    # insert 'apple' at the 5th position (index 4) of the list\n",
        "print(\"3\",a)\n",
        "a.pop()                 # remove and return the last item from the list\n",
        "\n",
        "print(a)                # print the modified list"
      ]
    },
    {
      "cell_type": "code",
      "source": [
        "\"\"\"Reverse the order of given string L = [4,5,6,8,3]\"\"\"\n",
        "\n",
        "L=[4,5,6,8,3]\n",
        "L.reverse()\n",
        "print(L)"
      ],
      "metadata": {
        "colab": {
          "base_uri": "https://localhost:8080/"
        },
        "id": "4uywT0GN7k5B",
        "outputId": "8e60aa6b-f721-45e1-9a98-8a921f4b9702"
      },
      "execution_count": 2,
      "outputs": [
        {
          "output_type": "stream",
          "name": "stdout",
          "text": [
            "[3, 8, 6, 5, 4]\n"
          ]
        }
      ]
    },
    {
      "cell_type": "code",
      "source": [
        "'''Use list comprehension to square the given list L=[2,4,7,3,6,8]'''\n",
        "\n",
        "L=[2,4,7,3,6,9]\n",
        "L_squared = [x**2 for x in L]\n",
        "print(L_squared)"
      ],
      "metadata": {
        "colab": {
          "base_uri": "https://localhost:8080/"
        },
        "id": "TlwBKKqv8ZY8",
        "outputId": "62bd2433-3caa-462d-929e-7792e39df1ca"
      },
      "execution_count": 3,
      "outputs": [
        {
          "output_type": "stream",
          "name": "stdout",
          "text": [
            "[4, 16, 49, 9, 36, 81]\n"
          ]
        }
      ]
    },
    {
      "cell_type": "code",
      "source": [
        "'''Create a function that takes in a tuple of integers and returns the sum of the integers. Test the function with a tuple of your choice. '''\n",
        "\n",
        "def sum_tuple(x):\n",
        "  return sum(x)\n",
        "\n",
        "t_tuple=(5,6,9,8,7)\n",
        "sum_of_tuple = sum_tuple(t_tuple)\n",
        "print(sum_of_tuple)\n",
        "\n"
      ],
      "metadata": {
        "colab": {
          "base_uri": "https://localhost:8080/"
        },
        "id": "ZDndSntn83PS",
        "outputId": "a785f81a-e27f-4733-ff52-421f1c9e6b2b"
      },
      "execution_count": 4,
      "outputs": [
        {
          "output_type": "stream",
          "name": "stdout",
          "text": [
            "35\n"
          ]
        }
      ]
    },
    {
      "cell_type": "code",
      "source": [
        "'''Create two sets and use the union() method to combine them into a single set. Print the resulting set to the console'''\n",
        "\n",
        "set1 = {\"mango\",\"car\",\"jeep\",\"tandoor\"}\n",
        "\n",
        "set2 = {\"laptop\",\"headphone\",\"speaker\",\"phone\"}\n",
        "\n",
        "comb_set = set1.union(set2)\n",
        "print(comb_set)"
      ],
      "metadata": {
        "colab": {
          "base_uri": "https://localhost:8080/"
        },
        "id": "dmAQrSFw-aJU",
        "outputId": "59578964-16fc-4afc-998a-2c15132063f9"
      },
      "execution_count": 5,
      "outputs": [
        {
          "output_type": "stream",
          "name": "stdout",
          "text": [
            "{'phone', 'jeep', 'speaker', 'headphone', 'laptop', 'car', 'mango', 'tandoor'}\n"
          ]
        }
      ]
    },
    {
      "cell_type": "code",
      "source": [
        "\"\"\"Create a set, and use the add() method to add a new word to the set. Print the resulting set to the console.\"\"\"\n",
        "\n",
        "set1 = {\"mango\",\"car\",\"jeep\",\"tandoor\"}\n",
        "\n",
        "set1.add(\"charger\")\n",
        "print(set1)\n"
      ],
      "metadata": {
        "colab": {
          "base_uri": "https://localhost:8080/"
        },
        "id": "P8WYWrc2_620",
        "outputId": "7b0ec3b9-78f8-49ca-bc29-0e8bde4d0c8e"
      },
      "execution_count": 6,
      "outputs": [
        {
          "output_type": "stream",
          "name": "stdout",
          "text": [
            "{'jeep', 'charger', 'car', 'mango', 'tandoor'}\n"
          ]
        }
      ]
    },
    {
      "cell_type": "code",
      "source": [
        "\"\"\"Create a set, and use the remove() method to remove one thing from the set. Print the resulting set to the console.\"\"\"\n",
        "\n",
        "set1 = {\"mango\",\"car\",\"jeep\",\"tandoor\"}\n",
        "set1.remove(\"mango\")\n",
        "print(set1)"
      ],
      "metadata": {
        "colab": {
          "base_uri": "https://localhost:8080/"
        },
        "outputId": "c8b50a64-79c4-4d37-d371-cd90913503ec",
        "id": "T9jk5g8BBBuC"
      },
      "execution_count": 7,
      "outputs": [
        {
          "output_type": "stream",
          "name": "stdout",
          "text": [
            "{'car', 'tandoor', 'jeep'}\n"
          ]
        }
      ]
    },
    {
      "cell_type": "code",
      "source": [
        "'''Use the zip() function to combine sets and list into a list of tuples Print the resulting list.'''\n",
        "\n",
        "set_a={1,2,3,4}\n",
        "set_b=['a','b','c','d']\n",
        "\n",
        "ab_pair=list(zip(set_a, set_b))\n",
        "print(\"method 1 output\", ab_pair)\n",
        "\n",
        "print('\\n method 2 output')\n",
        "for a, b in zip(set_a, set_b):\n",
        "    print(a, b)\n"
      ],
      "metadata": {
        "colab": {
          "base_uri": "https://localhost:8080/"
        },
        "outputId": "0732e4f9-b759-45a5-b1d1-c8b42136a419",
        "id": "BGTOEIdbBExt"
      },
      "execution_count": 8,
      "outputs": [
        {
          "output_type": "stream",
          "name": "stdout",
          "text": [
            "method 1 output [(1, 'a'), (2, 'b'), (3, 'c'), (4, 'd')]\n",
            "\n",
            " method 2 output\n",
            "1 a\n",
            "2 b\n",
            "3 c\n",
            "4 d\n"
          ]
        }
      ]
    },
    {
      "cell_type": "code",
      "source": [
        "'''Write a Python program to find the difference between consecutive numbers in a list'''\n",
        "\n",
        "def consecutive_difference(lst):\n",
        "    diff_lst = []\n",
        "    for i in range(len(lst)-1):\n",
        "        diff_lst.append(abs(lst[i] - lst[i+1]))\n",
        "    return diff_lst\n",
        "\n",
        "# Example usage\n",
        "my_list = [3, 5, 2, 8, 1]\n",
        "diff_list = consecutive_difference(my_list)\n",
        "print(diff_list)\n",
        "\n"
      ],
      "metadata": {
        "id": "DyOCNu8uE026",
        "colab": {
          "base_uri": "https://localhost:8080/"
        },
        "outputId": "d7cf4c7d-d75b-4f68-daa1-a2ebcaf26058"
      },
      "execution_count": 9,
      "outputs": [
        {
          "output_type": "stream",
          "name": "stdout",
          "text": [
            "[2, 3, 6, 7]\n"
          ]
        }
      ]
    },
    {
      "cell_type": "code",
      "source": [],
      "metadata": {
        "id": "SpXVmdIUiISd"
      },
      "execution_count": null,
      "outputs": []
    }
  ]
}