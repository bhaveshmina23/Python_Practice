{
  "nbformat": 4,
  "nbformat_minor": 0,
  "metadata": {
    "colab": {
      "provenance": []
    },
    "kernelspec": {
      "name": "python3",
      "display_name": "Python 3"
    },
    "language_info": {
      "name": "python"
    }
  },
  "cells": [
    {
      "cell_type": "code",
      "execution_count": null,
      "metadata": {
        "id": "hyI3bodOkVHJ"
      },
      "outputs": [],
      "source": [
        "\"\"\"Write a program that prints the first 10 even numbers using a for loop\"\"\"\n",
        "\n",
        "for i in range(2, 21, 2):\n",
        "    print(i)\n"
      ]
    },
    {
      "cell_type": "code",
      "source": [
        "\"\"\"Write a program that takes a list of strings and prints out each string in reverse order using a for loop\"\"\"\n",
        "\n",
        "my_list = [\"hello\", \"dear\", \"how\", \"are\", \"you\"]\n",
        "for s in my_list:\n",
        "    print(s[::-1])"
      ],
      "metadata": {
        "id": "liXKvSEPo-NW"
      },
      "execution_count": null,
      "outputs": []
    },
    {
      "cell_type": "code",
      "source": [
        "\"\"\"Write a program that takes a list of strings and prints out each string in reverse order using a while loop\"\"\"\n",
        "\n",
        "my_list = [\"hello\", \"dear\", \"how\", \"are\", \"you\"]\n",
        "\n",
        "for i in my_list:\n",
        "  index = len(i) - 1\n",
        "  while index >= 0:\n",
        "    print(i[index], end=\"\")\n",
        "    index -= 1\n",
        "  print()\n",
        "\n"
      ],
      "metadata": {
        "id": "oxQt_1VLrjit"
      },
      "execution_count": null,
      "outputs": []
    },
    {
      "cell_type": "code",
      "source": [
        "\"\"\"Write a program that prints the multiplication table of a given number using a for loop\"\"\"\n",
        "\n",
        "num = int(input(\"Enter a number: \"))\n",
        "\n",
        "for i in range(1, 11):\n",
        "\n",
        "  product = num * i\n",
        "  print(num, \"x\", i, \"=\", product)"
      ],
      "metadata": {
        "id": "M4tC3rAnrjYY"
      },
      "execution_count": null,
      "outputs": []
    },
    {
      "cell_type": "code",
      "source": [
        "\"\"\"Write a program that takes a list of integers as input and returns the sum of all the numbers in the list using a for loop\"\"\"\n",
        "\n",
        "def sumlist(numbers):\n",
        "    total = 0\n",
        "    for num in numbers:\n",
        "        total += num\n",
        "    return total\n",
        "\n",
        "mylist = [1, 2, 3, 4, 5]\n",
        "print(sumlist(mylist))\n",
        "\n"
      ],
      "metadata": {
        "id": "pbWwePX3rjbM"
      },
      "execution_count": null,
      "outputs": []
    },
    {
      "cell_type": "code",
      "source": [
        "\"\"\"Write a program that prompts the user for a positive integer and then prints out all the prime numbers up to that number using a for loop\"\"\"\n",
        "\n",
        "def is_prime(n):\n",
        "    if n <= 1:\n",
        "        return False\n",
        "    for i in range(2, int(n**0.5) + 1):\n",
        "        if n % i == 0:\n",
        "            return False\n",
        "    return True\n",
        "\n",
        "n = int(input(\"Enter a positive integer: \"))\n",
        "\n",
        "for i in range(2, n+1):\n",
        "    if is_prime(i):\n",
        "        print(i)"
      ],
      "metadata": {
        "id": "WQexseS5rjdy"
      },
      "execution_count": null,
      "outputs": []
    },
    {
      "cell_type": "code",
      "source": [
        "\"\"\"Write a program that prompts the user to enter a password until the correct password is entered using a while loop\"\"\"\n",
        "\n",
        "password = \"password231\"\n",
        "\n",
        "user_input = input(\"enter password: \")\n",
        "\n",
        "while user_input != password:\n",
        "  print(\"Incorrect password!\")\n",
        "  user_input = input(\"Enter Password :\")\n",
        "\n",
        "print(\"Correct Password! \\n access granted\")"
      ],
      "metadata": {
        "id": "FmAA8GA2rjgY"
      },
      "execution_count": null,
      "outputs": []
    },
    {
      "cell_type": "code",
      "source": [
        "\"\"\"Write a program that prompts the user to enter a positive integer and then prints out all the Fibonacci numbers up to that number using a while loop\"\"\"\n",
        "\n",
        "n = int(input(\"Enter a positive integer: \"))\n",
        "\n",
        "fib1 = 0\n",
        "fib2 = 1\n",
        "\n",
        "print(fib1)\n",
        "print(fib2)\n",
        "\n",
        "while fib2 <= n:\n",
        "    fib3 = fib1 + fib2\n",
        "    print(fib3)\n",
        "\n",
        "    fib1 = fib2\n",
        "    fib2 = fib3\n"
      ],
      "metadata": {
        "id": "zXoZZ30NrjlI"
      },
      "execution_count": null,
      "outputs": []
    },
    {
      "cell_type": "code",
      "source": [
        "\"\"\"Write a program that takes a list of integers as input and returns the product of all the numbers in the list using a while loop\"\"\"\n",
        "\n",
        "\n",
        "m_list = [2,4,6,85,70]\n",
        "\n",
        "product =1\n",
        "\n",
        "index = 0\n",
        "while index < len(m_list):\n",
        "  product *= m_list[index]\n",
        "  index +=1\n",
        "\n",
        "print(product)"
      ],
      "metadata": {
        "id": "rGRI6MAosDuD"
      },
      "execution_count": null,
      "outputs": []
    },
    {
      "cell_type": "code",
      "source": [
        "\"\"\"Write a program that prompts the user to enter a positive integer and then prints out the factorial of that number using a while loop\"\"\"\n",
        "\n",
        "n = int(input(\"enter a positive integer: \"))\n",
        "\n",
        "factorial = 1\n",
        "i = 1\n",
        "while i <= n:\n",
        "  factorial *= i\n",
        "  i += 1\n",
        "\n",
        "print(factorial)"
      ],
      "metadata": {
        "id": "SFIC483ysJPt"
      },
      "execution_count": null,
      "outputs": []
    }
  ]
}