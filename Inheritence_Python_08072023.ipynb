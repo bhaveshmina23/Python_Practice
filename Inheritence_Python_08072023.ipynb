{
  "cells": [
    {
      "cell_type": "markdown",
      "source": [
        "## **Inheritence**"
      ],
      "metadata": {
        "id": "tJdEr8a5jOYV"
      },
      "id": "tJdEr8a5jOYV"
    },
    {
      "cell_type": "code",
      "execution_count": 1,
      "id": "9ab60fdb-415a-4566-91f6-91f3a12d1d41",
      "metadata": {
        "id": "9ab60fdb-415a-4566-91f6-91f3a12d1d41"
      },
      "outputs": [],
      "source": [
        "class gen:\n",
        "\n",
        "    def test_gen(self) :\n",
        "        print(\" Hello this is my gen class \")"
      ]
    },
    {
      "cell_type": "code",
      "execution_count": 2,
      "id": "45ee996d-e710-4d08-b9e1-65f9d1bb5dec",
      "metadata": {
        "id": "45ee996d-e710-4d08-b9e1-65f9d1bb5dec"
      },
      "outputs": [],
      "source": [
        "class child(gen):\n",
        "    pass"
      ]
    },
    {
      "cell_type": "code",
      "execution_count": 3,
      "id": "072650c3-da37-441a-b636-462533ab41c2",
      "metadata": {
        "id": "072650c3-da37-441a-b636-462533ab41c2"
      },
      "outputs": [],
      "source": [
        "child_obj = child()"
      ]
    },
    {
      "cell_type": "code",
      "execution_count": 4,
      "id": "3ed93b5f-dcbf-49c3-9240-98da3c333cda",
      "metadata": {
        "id": "3ed93b5f-dcbf-49c3-9240-98da3c333cda",
        "outputId": "a5e6ebc7-b469-4176-f202-d02a09638a48",
        "colab": {
          "base_uri": "https://localhost:8080/"
        }
      },
      "outputs": [
        {
          "output_type": "stream",
          "name": "stdout",
          "text": [
            " Hello this is my gen class \n"
          ]
        }
      ],
      "source": [
        "child_obj.test_gen()"
      ]
    },
    {
      "cell_type": "code",
      "execution_count": 5,
      "id": "c6cf06d8-fc8b-49c8-b998-72123cedf565",
      "metadata": {
        "id": "c6cf06d8-fc8b-49c8-b998-72123cedf565"
      },
      "outputs": [],
      "source": [
        "class class1 :\n",
        "    def test_class1(self) :\n",
        "        print(\"Hello this is my class1 \" )"
      ]
    },
    {
      "cell_type": "code",
      "execution_count": 6,
      "id": "fae5e46f-91e4-44f5-b1fd-d13a622a5394",
      "metadata": {
        "id": "fae5e46f-91e4-44f5-b1fd-d13a622a5394"
      },
      "outputs": [],
      "source": [
        "class class2(class1) :\n",
        "    def test_class2(self) :\n",
        "        print(\"Hello this is my class2\" )"
      ]
    },
    {
      "cell_type": "code",
      "execution_count": 7,
      "id": "19f2fd8b-ce85-4fa4-92fb-9ae0758675ed",
      "metadata": {
        "id": "19f2fd8b-ce85-4fa4-92fb-9ae0758675ed"
      },
      "outputs": [],
      "source": [
        "class class3(class2) :\n",
        "    def test_class3(self) :\n",
        "        print(\"Hello this is my class3 \")"
      ]
    },
    {
      "cell_type": "code",
      "execution_count": 8,
      "id": "759a8eee-763d-405a-b897-0c7f4b78fdd4",
      "metadata": {
        "id": "759a8eee-763d-405a-b897-0c7f4b78fdd4"
      },
      "outputs": [],
      "source": [
        "obj_class3  = class3()"
      ]
    },
    {
      "cell_type": "code",
      "execution_count": 9,
      "id": "78311224-7483-4de6-b6e5-3d4338e858f5",
      "metadata": {
        "id": "78311224-7483-4de6-b6e5-3d4338e858f5",
        "outputId": "ef05d5ab-15fd-43f3-ad85-ed1e3fecc449",
        "colab": {
          "base_uri": "https://localhost:8080/"
        }
      },
      "outputs": [
        {
          "output_type": "stream",
          "name": "stdout",
          "text": [
            "Hello this is my class1 \n"
          ]
        }
      ],
      "source": [
        "obj_class3.test_class1()"
      ]
    },
    {
      "cell_type": "code",
      "execution_count": 10,
      "id": "dbd54953-d873-4dce-bf32-d9bbcdbeaf95",
      "metadata": {
        "id": "dbd54953-d873-4dce-bf32-d9bbcdbeaf95",
        "outputId": "a0ecfa93-c222-4e0a-907b-fa181f72c56e",
        "colab": {
          "base_uri": "https://localhost:8080/"
        }
      },
      "outputs": [
        {
          "output_type": "stream",
          "name": "stdout",
          "text": [
            "Hello this is my class2\n"
          ]
        }
      ],
      "source": [
        "obj_class3.test_class2()"
      ]
    },
    {
      "cell_type": "code",
      "execution_count": 11,
      "id": "db9150d7-c6f4-4653-8186-6e377672edeb",
      "metadata": {
        "id": "db9150d7-c6f4-4653-8186-6e377672edeb",
        "outputId": "caa7ae94-30aa-4d89-b79d-84058133fd3c",
        "colab": {
          "base_uri": "https://localhost:8080/"
        }
      },
      "outputs": [
        {
          "output_type": "stream",
          "name": "stdout",
          "text": [
            "Hello this is my class3 \n"
          ]
        }
      ],
      "source": [
        "obj_class3.test_class3()"
      ]
    },
    {
      "cell_type": "markdown",
      "source": [
        "# Multiple inheritence"
      ],
      "metadata": {
        "id": "2kxPnSc3jaKs"
      },
      "id": "2kxPnSc3jaKs"
    },
    {
      "cell_type": "code",
      "execution_count": 12,
      "id": "a526ccfe-3d6e-484c-8013-88ad46bbac90",
      "metadata": {
        "id": "a526ccfe-3d6e-484c-8013-88ad46bbac90"
      },
      "outputs": [],
      "source": [
        "class class1:\n",
        "    def test_class1(self) :\n",
        "        print(\"Hello this is my class 1\" )"
      ]
    },
    {
      "cell_type": "code",
      "execution_count": 13,
      "id": "dca41736-065f-4f00-9030-5a9b4ef88ab8",
      "metadata": {
        "id": "dca41736-065f-4f00-9030-5a9b4ef88ab8"
      },
      "outputs": [],
      "source": [
        "class class2 :\n",
        "    def test_class2(self) :\n",
        "        print(\"Hello this is my class 2\")"
      ]
    },
    {
      "cell_type": "code",
      "execution_count": 14,
      "id": "8cd32f8a-79e1-4ace-9832-82ba590b283b",
      "metadata": {
        "id": "8cd32f8a-79e1-4ace-9832-82ba590b283b"
      },
      "outputs": [],
      "source": [
        "class class3 (class1 , class2) :\n",
        "    pass"
      ]
    },
    {
      "cell_type": "code",
      "execution_count": 15,
      "id": "8d7481d7-4dd9-4c4f-a3b7-efe42db35dde",
      "metadata": {
        "id": "8d7481d7-4dd9-4c4f-a3b7-efe42db35dde"
      },
      "outputs": [],
      "source": [
        "obj_class3 = class3()"
      ]
    },
    {
      "cell_type": "code",
      "execution_count": 16,
      "id": "603c2733-71c5-480a-aa27-57e204321a33",
      "metadata": {
        "id": "603c2733-71c5-480a-aa27-57e204321a33",
        "outputId": "07797ee3-58f6-43bf-975a-4591c822f444",
        "colab": {
          "base_uri": "https://localhost:8080/"
        }
      },
      "outputs": [
        {
          "output_type": "stream",
          "name": "stdout",
          "text": [
            "Hello this is my class 1\n"
          ]
        }
      ],
      "source": [
        "obj_class3.test_class1()"
      ]
    },
    {
      "cell_type": "code",
      "execution_count": 17,
      "id": "1436a28b-48cb-4de7-aa02-79d26b1b9f49",
      "metadata": {
        "id": "1436a28b-48cb-4de7-aa02-79d26b1b9f49",
        "outputId": "c11c978c-400b-4779-b7c6-04e1ab37a542",
        "colab": {
          "base_uri": "https://localhost:8080/"
        }
      },
      "outputs": [
        {
          "output_type": "stream",
          "name": "stdout",
          "text": [
            "Hello this is my class 2\n"
          ]
        }
      ],
      "source": [
        "obj_class3.test_class2()"
      ]
    }
  ],
  "metadata": {
    "kernelspec": {
      "display_name": "Python 3 (ipykernel)",
      "language": "python",
      "name": "python3"
    },
    "language_info": {
      "codemirror_mode": {
        "name": "ipython",
        "version": 3
      },
      "file_extension": ".py",
      "mimetype": "text/x-python",
      "name": "python",
      "nbconvert_exporter": "python",
      "pygments_lexer": "ipython3",
      "version": "3.10.8"
    },
    "colab": {
      "provenance": []
    }
  },
  "nbformat": 4,
  "nbformat_minor": 5
}