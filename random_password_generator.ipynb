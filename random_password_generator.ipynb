{
  "nbformat": 4,
  "nbformat_minor": 0,
  "metadata": {
    "colab": {
      "provenance": [],
      "authorship_tag": "ABX9TyPX83Uv7yI0iLCW9anFMm6k",
      "include_colab_link": true
    },
    "kernelspec": {
      "name": "python3",
      "display_name": "Python 3"
    },
    "language_info": {
      "name": "python"
    }
  },
  "cells": [
    {
      "cell_type": "markdown",
      "metadata": {
        "id": "view-in-github",
        "colab_type": "text"
      },
      "source": [
        "<a href=\"https://colab.research.google.com/github/bhaveshmina23/Python_Practice/blob/main/random_password_generator.ipynb\" target=\"_parent\"><img src=\"https://colab.research.google.com/assets/colab-badge.svg\" alt=\"Open In Colab\"/></a>"
      ]
    },
    {
      "cell_type": "code",
      "execution_count": 1,
      "metadata": {
        "id": "5SgGdl0U95tH"
      },
      "outputs": [],
      "source": [
        "# max 12 digits, random password generator"
      ]
    },
    {
      "cell_type": "code",
      "source": [
        "import random\n",
        "import array"
      ],
      "metadata": {
        "id": "DMHIY0cZ-Rx_"
      },
      "execution_count": 7,
      "outputs": []
    },
    {
      "cell_type": "code",
      "source": [
        "MAX_LEN = 12"
      ],
      "metadata": {
        "id": "4t1zYqPG-WXW"
      },
      "execution_count": 3,
      "outputs": []
    },
    {
      "cell_type": "code",
      "source": [
        "DIGITS = ['0', '1', '2', '3', '4', '5', '6', '7', '8', '9']"
      ],
      "metadata": {
        "id": "lfEGKgyl-Yte"
      },
      "execution_count": 4,
      "outputs": []
    },
    {
      "cell_type": "code",
      "source": [
        "LOCASE_CHARACTERS = ['a', 'b', 'c', 'd', 'e', 'f', 'g', 'h', 'i', 'j', 'k', 'm', 'n', 'o', 'p', 'q', 'r', 's', 't', 'u', 'v', 'w', 'x', 'y', 'z']"
      ],
      "metadata": {
        "id": "cDD_9qC2-cTf"
      },
      "execution_count": 5,
      "outputs": []
    },
    {
      "cell_type": "code",
      "source": [
        "UPCASE_CHARACTERS = ['A', 'B', 'C', 'D', 'E', 'F', 'G', 'H', 'I', 'J', 'K', 'M', 'N', 'O', 'p', 'Q', 'R', 'S', 'T', 'U', 'V', 'W', 'X', 'Y', 'Z']"
      ],
      "metadata": {
        "id": "BR76M5Zg-oya"
      },
      "execution_count": 6,
      "outputs": []
    },
    {
      "cell_type": "code",
      "source": [
        "SYMBOLS = ['@', '#', '$', '%', '=', ':', '?', '.', '/', '|', '~', '>', '*', '(', ')', '<']"
      ],
      "metadata": {
        "id": "N2JR0-Oj-wTx"
      },
      "execution_count": 8,
      "outputs": []
    },
    {
      "cell_type": "code",
      "source": [
        "COMBINED_LIST = DIGITS + UPCASE_CHARACTERS + LOCASE_CHARACTERS + SYMBOLS"
      ],
      "metadata": {
        "id": "Im8zjvBJ-4cS"
      },
      "execution_count": 9,
      "outputs": []
    },
    {
      "cell_type": "code",
      "source": [
        "rand_digit = random.choice(DIGITS)\n",
        "rand_upper = random.choice(UPCASE_CHARACTERS)\n",
        "rand_lower = random.choice(LOCASE_CHARACTERS)\n",
        "rand_symbol = random.choice(SYMBOLS)"
      ],
      "metadata": {
        "id": "lD-c3rGV-8wY"
      },
      "execution_count": 10,
      "outputs": []
    },
    {
      "cell_type": "code",
      "source": [
        "temp_pass = rand_digit + rand_upper + rand_lower + rand_symbol"
      ],
      "metadata": {
        "id": "0iDGOBBK_FeI"
      },
      "execution_count": 11,
      "outputs": []
    },
    {
      "cell_type": "code",
      "source": [
        "for x in range(MAX_LEN - 4):\n",
        "    temp_pass = temp_pass + random.choice(COMBINED_LIST)\n",
        "    temp_pass_list = array.array('u', temp_pass)\n",
        "    random.shuffle(temp_pass_list)"
      ],
      "metadata": {
        "id": "FkWHEpCm_JyX"
      },
      "execution_count": 12,
      "outputs": []
    },
    {
      "cell_type": "code",
      "source": [
        "password = \"\"\n",
        "for x in temp_pass_list:\n",
        "  password = password + x\n",
        "\n",
        "print(password)"
      ],
      "metadata": {
        "colab": {
          "base_uri": "https://localhost:8080/"
        },
        "id": "M9Lnym4y_bRs",
        "outputId": "cbd36528-c007-42ef-dc05-ba72c4465562"
      },
      "execution_count": 18,
      "outputs": [
        {
          "output_type": "stream",
          "name": "stdout",
          "text": [
            "H?(qb2JH5W$2\n"
          ]
        }
      ]
    },
    {
      "cell_type": "code",
      "source": [],
      "metadata": {
        "id": "KOiaaXjt_r9q"
      },
      "execution_count": null,
      "outputs": []
    }
  ]
}