{
  "nbformat": 4,
  "nbformat_minor": 0,
  "metadata": {
    "colab": {
      "provenance": []
    },
    "kernelspec": {
      "name": "python3",
      "display_name": "Python 3"
    },
    "language_info": {
      "name": "python"
    }
  },
  "cells": [
    {
      "cell_type": "markdown",
      "source": [
        "## **Decorator**"
      ],
      "metadata": {
        "id": "fSWmNtnhS2W_"
      }
    },
    {
      "cell_type": "code",
      "execution_count": 2,
      "metadata": {
        "id": "3ScIAfZ9RxzL"
      },
      "outputs": [],
      "source": [
        "def test():\n",
        "    print(\"this is the start of my fun\")\n",
        "    print(4+5)\n",
        "    print(\"this is the end of my fun\")"
      ]
    },
    {
      "cell_type": "code",
      "source": [
        "test()"
      ],
      "metadata": {
        "colab": {
          "base_uri": "https://localhost:8080/"
        },
        "id": "5E43P_4FSfoc",
        "outputId": "798ead04-0779-4473-b3f2-e28542f69a82"
      },
      "execution_count": 3,
      "outputs": [
        {
          "output_type": "stream",
          "name": "stdout",
          "text": [
            "this is the start of my fun\n",
            "9\n",
            "this is the end of my fun\n"
          ]
        }
      ]
    },
    {
      "cell_type": "code",
      "source": [
        "def deco(func):\n",
        "    def inner_deco():\n",
        "        print(\"this is the start of my fun\")\n",
        "        func()\n",
        "        print(\"this is the end of my fun\")\n",
        "    return inner_deco\n",
        ""
      ],
      "metadata": {
        "id": "ubBmmP-1SjnR"
      },
      "execution_count": 4,
      "outputs": []
    },
    {
      "cell_type": "code",
      "source": [
        "\n",
        "@deco\n",
        "def test1():\n",
        "    print(4+5)"
      ],
      "metadata": {
        "id": "E-hEscRjSjqD"
      },
      "execution_count": 5,
      "outputs": []
    },
    {
      "cell_type": "code",
      "source": [
        "test1()"
      ],
      "metadata": {
        "colab": {
          "base_uri": "https://localhost:8080/"
        },
        "id": "ZgknpdYySjsY",
        "outputId": "3041698a-4ca7-4ef1-8232-171b38f45f33"
      },
      "execution_count": 6,
      "outputs": [
        {
          "output_type": "stream",
          "name": "stdout",
          "text": [
            "this is the start of my fun\n",
            "9\n",
            "this is the end of my fun\n"
          ]
        }
      ]
    },
    {
      "cell_type": "code",
      "source": [
        "import time\n",
        "def timer_test(func) :\n",
        "    def timer_test_inner():\n",
        "        start = time.time()\n",
        "        func()\n",
        "        end = time.time()\n",
        "        print(end-start)\n",
        "    return timer_test_inner\n"
      ],
      "metadata": {
        "id": "ZLU6y0N2Sjxo"
      },
      "execution_count": 7,
      "outputs": []
    },
    {
      "cell_type": "code",
      "source": [
        "@timer_test\n",
        "def test2():\n",
        "    print(45+67)"
      ],
      "metadata": {
        "id": "dkgLwdnHSjzn"
      },
      "execution_count": 8,
      "outputs": []
    },
    {
      "cell_type": "code",
      "source": [
        "test2()"
      ],
      "metadata": {
        "colab": {
          "base_uri": "https://localhost:8080/"
        },
        "id": "-BNf-Fx0Sj2f",
        "outputId": "35429f30-402f-4b55-90c8-51e325f5ca10"
      },
      "execution_count": 9,
      "outputs": [
        {
          "output_type": "stream",
          "name": "stdout",
          "text": [
            "112\n",
            "0.0008380413055419922\n"
          ]
        }
      ]
    },
    {
      "cell_type": "code",
      "source": [
        "@timer_test\n",
        "def test3():\n",
        "    for i in range(100000000):\n",
        "        pass"
      ],
      "metadata": {
        "id": "GegV4jX4SxUK"
      },
      "execution_count": 10,
      "outputs": []
    },
    {
      "cell_type": "code",
      "source": [
        "test3()"
      ],
      "metadata": {
        "colab": {
          "base_uri": "https://localhost:8080/"
        },
        "id": "lFYH04sNSzo9",
        "outputId": "860d41f9-c4e7-45f7-f086-97b0a352a717"
      },
      "execution_count": 11,
      "outputs": [
        {
          "output_type": "stream",
          "name": "stdout",
          "text": [
            "3.1925642490386963\n"
          ]
        }
      ]
    }
  ]
}